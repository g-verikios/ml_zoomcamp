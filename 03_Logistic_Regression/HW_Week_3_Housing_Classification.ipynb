{
 "cells": [
  {
   "cell_type": "markdown",
   "id": "614a535c",
   "metadata": {},
   "source": [
    "## INITIALIZATION:"
   ]
  },
  {
   "cell_type": "code",
   "execution_count": 295,
   "id": "d0ba812c",
   "metadata": {},
   "outputs": [],
   "source": [
    "import pandas as pd\n",
    "import numpy as np\n",
    "import seaborn as sns\n",
    "import matplotlib.pyplot as plt\n",
    "\n",
    "# Imports from sci-kit learn\n",
    "\n",
    "from sklearn.model_selection import train_test_split\n",
    "\n",
    "from sklearn.metrics import mutual_info_score\n",
    "\n",
    "from sklearn.feature_extraction import DictVectorizer\n",
    "from sklearn.linear_model import LogisticRegression\n",
    "\n",
    "from sklearn.metrics import accuracy_score\n",
    "\n",
    "from sklearn.linear_model import Ridge\n",
    "from sklearn.metrics import mean_squared_error"
   ]
  },
  {
   "cell_type": "markdown",
   "id": "3d3d5393",
   "metadata": {},
   "source": [
    "## IMPORTING DATASET:"
   ]
  },
  {
   "cell_type": "code",
   "execution_count": 2,
   "id": "dfc0d0e7",
   "metadata": {},
   "outputs": [
    {
     "name": "stdout",
     "output_type": "stream",
     "text": [
      "--2022-10-20 00:31:53--  https://raw.githubusercontent.com/alexeygrigorev/datasets/master/housing.csv\n",
      "Resolving raw.githubusercontent.com (raw.githubusercontent.com)... 2606:50c0:8000::154, 2606:50c0:8003::154, 2606:50c0:8002::154, ...\n",
      "Connecting to raw.githubusercontent.com (raw.githubusercontent.com)|2606:50c0:8000::154|:443... connected.\n",
      "HTTP request sent, awaiting response... 200 OK\n",
      "Length: 1423529 (1.4M) [text/plain]\n",
      "Saving to: ‘housing.csv.1’\n",
      "\n",
      "housing.csv.1       100%[===================>]   1.36M  2.57MB/s    in 0.5s    \n",
      "\n",
      "2022-10-20 00:31:54 (2.57 MB/s) - ‘housing.csv.1’ saved [1423529/1423529]\n",
      "\n"
     ]
    }
   ],
   "source": [
    "!wget https://raw.githubusercontent.com/alexeygrigorev/datasets/master/housing.csv"
   ]
  },
  {
   "cell_type": "markdown",
   "id": "8bb0baf1",
   "metadata": {},
   "source": [
    "## DATA PREPARATION"
   ]
  },
  {
   "cell_type": "code",
   "execution_count": 328,
   "id": "5719f2c1",
   "metadata": {},
   "outputs": [
    {
     "data": {
      "text/plain": [
       "(20640, 10)"
      ]
     },
     "execution_count": 328,
     "metadata": {},
     "output_type": "execute_result"
    }
   ],
   "source": [
    "cols = ['latitude',\n",
    "'longitude',\n",
    "'housing_median_age',\n",
    "'total_rooms',\n",
    "'total_bedrooms',\n",
    "'population',\n",
    "'households',\n",
    "'median_income',\n",
    "'median_house_value',\n",
    "'ocean_proximity']\n",
    "\n",
    "df = pd.read_csv('housing.csv', usecols = cols)\n",
    "df.shape"
   ]
  },
  {
   "cell_type": "code",
   "execution_count": 329,
   "id": "20742b09",
   "metadata": {},
   "outputs": [
    {
     "data": {
      "text/html": [
       "<div>\n",
       "<style scoped>\n",
       "    .dataframe tbody tr th:only-of-type {\n",
       "        vertical-align: middle;\n",
       "    }\n",
       "\n",
       "    .dataframe tbody tr th {\n",
       "        vertical-align: top;\n",
       "    }\n",
       "\n",
       "    .dataframe thead th {\n",
       "        text-align: right;\n",
       "    }\n",
       "</style>\n",
       "<table border=\"1\" class=\"dataframe\">\n",
       "  <thead>\n",
       "    <tr style=\"text-align: right;\">\n",
       "      <th></th>\n",
       "      <th>longitude</th>\n",
       "      <th>latitude</th>\n",
       "      <th>housing_median_age</th>\n",
       "      <th>total_rooms</th>\n",
       "      <th>total_bedrooms</th>\n",
       "      <th>population</th>\n",
       "      <th>households</th>\n",
       "      <th>median_income</th>\n",
       "      <th>median_house_value</th>\n",
       "      <th>ocean_proximity</th>\n",
       "    </tr>\n",
       "  </thead>\n",
       "  <tbody>\n",
       "    <tr>\n",
       "      <th>0</th>\n",
       "      <td>-122.23</td>\n",
       "      <td>37.88</td>\n",
       "      <td>41.0</td>\n",
       "      <td>880.0</td>\n",
       "      <td>129.0</td>\n",
       "      <td>322.0</td>\n",
       "      <td>126.0</td>\n",
       "      <td>8.3252</td>\n",
       "      <td>452600.0</td>\n",
       "      <td>NEAR BAY</td>\n",
       "    </tr>\n",
       "    <tr>\n",
       "      <th>1</th>\n",
       "      <td>-122.22</td>\n",
       "      <td>37.86</td>\n",
       "      <td>21.0</td>\n",
       "      <td>7099.0</td>\n",
       "      <td>1106.0</td>\n",
       "      <td>2401.0</td>\n",
       "      <td>1138.0</td>\n",
       "      <td>8.3014</td>\n",
       "      <td>358500.0</td>\n",
       "      <td>NEAR BAY</td>\n",
       "    </tr>\n",
       "    <tr>\n",
       "      <th>2</th>\n",
       "      <td>-122.24</td>\n",
       "      <td>37.85</td>\n",
       "      <td>52.0</td>\n",
       "      <td>1467.0</td>\n",
       "      <td>190.0</td>\n",
       "      <td>496.0</td>\n",
       "      <td>177.0</td>\n",
       "      <td>7.2574</td>\n",
       "      <td>352100.0</td>\n",
       "      <td>NEAR BAY</td>\n",
       "    </tr>\n",
       "    <tr>\n",
       "      <th>3</th>\n",
       "      <td>-122.25</td>\n",
       "      <td>37.85</td>\n",
       "      <td>52.0</td>\n",
       "      <td>1274.0</td>\n",
       "      <td>235.0</td>\n",
       "      <td>558.0</td>\n",
       "      <td>219.0</td>\n",
       "      <td>5.6431</td>\n",
       "      <td>341300.0</td>\n",
       "      <td>NEAR BAY</td>\n",
       "    </tr>\n",
       "    <tr>\n",
       "      <th>4</th>\n",
       "      <td>-122.25</td>\n",
       "      <td>37.85</td>\n",
       "      <td>52.0</td>\n",
       "      <td>1627.0</td>\n",
       "      <td>280.0</td>\n",
       "      <td>565.0</td>\n",
       "      <td>259.0</td>\n",
       "      <td>3.8462</td>\n",
       "      <td>342200.0</td>\n",
       "      <td>NEAR BAY</td>\n",
       "    </tr>\n",
       "  </tbody>\n",
       "</table>\n",
       "</div>"
      ],
      "text/plain": [
       "   longitude  latitude  housing_median_age  total_rooms  total_bedrooms  \\\n",
       "0    -122.23     37.88                41.0        880.0           129.0   \n",
       "1    -122.22     37.86                21.0       7099.0          1106.0   \n",
       "2    -122.24     37.85                52.0       1467.0           190.0   \n",
       "3    -122.25     37.85                52.0       1274.0           235.0   \n",
       "4    -122.25     37.85                52.0       1627.0           280.0   \n",
       "\n",
       "   population  households  median_income  median_house_value ocean_proximity  \n",
       "0       322.0       126.0         8.3252            452600.0        NEAR BAY  \n",
       "1      2401.0      1138.0         8.3014            358500.0        NEAR BAY  \n",
       "2       496.0       177.0         7.2574            352100.0        NEAR BAY  \n",
       "3       558.0       219.0         5.6431            341300.0        NEAR BAY  \n",
       "4       565.0       259.0         3.8462            342200.0        NEAR BAY  "
      ]
     },
     "execution_count": 329,
     "metadata": {},
     "output_type": "execute_result"
    }
   ],
   "source": [
    "df.head(5)"
   ]
  },
  {
   "cell_type": "code",
   "execution_count": 330,
   "id": "ac4a6988",
   "metadata": {},
   "outputs": [
    {
     "name": "stdout",
     "output_type": "stream",
     "text": [
      "<class 'pandas.core.frame.DataFrame'>\n",
      "RangeIndex: 20640 entries, 0 to 20639\n",
      "Data columns (total 10 columns):\n",
      " #   Column              Non-Null Count  Dtype  \n",
      "---  ------              --------------  -----  \n",
      " 0   longitude           20640 non-null  float64\n",
      " 1   latitude            20640 non-null  float64\n",
      " 2   housing_median_age  20640 non-null  float64\n",
      " 3   total_rooms         20640 non-null  float64\n",
      " 4   total_bedrooms      20433 non-null  float64\n",
      " 5   population          20640 non-null  float64\n",
      " 6   households          20640 non-null  float64\n",
      " 7   median_income       20640 non-null  float64\n",
      " 8   median_house_value  20640 non-null  float64\n",
      " 9   ocean_proximity     20640 non-null  object \n",
      "dtypes: float64(9), object(1)\n",
      "memory usage: 1.6+ MB\n"
     ]
    }
   ],
   "source": [
    "df.info(verbose = True, show_counts = True )"
   ]
  },
  {
   "cell_type": "code",
   "execution_count": 331,
   "id": "df01325e",
   "metadata": {},
   "outputs": [],
   "source": [
    "numeric_cols = df.select_dtypes(include=['number']).columns"
   ]
  },
  {
   "cell_type": "code",
   "execution_count": 332,
   "id": "0bf83927",
   "metadata": {},
   "outputs": [],
   "source": [
    "df = df.fillna(df.median(numeric_only = True))"
   ]
  },
  {
   "cell_type": "code",
   "execution_count": 333,
   "id": "aba6a248",
   "metadata": {},
   "outputs": [
    {
     "data": {
      "text/plain": [
       "longitude             0\n",
       "latitude              0\n",
       "housing_median_age    0\n",
       "total_rooms           0\n",
       "total_bedrooms        0\n",
       "population            0\n",
       "households            0\n",
       "median_income         0\n",
       "median_house_value    0\n",
       "ocean_proximity       0\n",
       "dtype: int64"
      ]
     },
     "execution_count": 333,
     "metadata": {},
     "output_type": "execute_result"
    }
   ],
   "source": [
    "df.isnull().sum()"
   ]
  },
  {
   "cell_type": "code",
   "execution_count": 334,
   "id": "62c02853",
   "metadata": {},
   "outputs": [],
   "source": [
    "df['rooms_per_household'] = df.total_rooms / df.households\n",
    "df['bedrooms_per_room'] = df.total_bedrooms / df.total_rooms\n",
    "df['population_per_household'] = df.population / df.households"
   ]
  },
  {
   "cell_type": "markdown",
   "id": "c9be1d4e",
   "metadata": {},
   "source": [
    "## EDA\n"
   ]
  },
  {
   "cell_type": "code",
   "execution_count": 335,
   "id": "c60e7da4",
   "metadata": {},
   "outputs": [
    {
     "data": {
      "text/plain": [
       "longitude                   float64\n",
       "latitude                    float64\n",
       "housing_median_age          float64\n",
       "total_rooms                 float64\n",
       "total_bedrooms              float64\n",
       "population                  float64\n",
       "households                  float64\n",
       "median_income               float64\n",
       "median_house_value          float64\n",
       "ocean_proximity              object\n",
       "rooms_per_household         float64\n",
       "bedrooms_per_room           float64\n",
       "population_per_household    float64\n",
       "dtype: object"
      ]
     },
     "execution_count": 335,
     "metadata": {},
     "output_type": "execute_result"
    }
   ],
   "source": [
    "df.dtypes"
   ]
  },
  {
   "cell_type": "code",
   "execution_count": 336,
   "id": "17606a5b",
   "metadata": {},
   "outputs": [],
   "source": [
    "numerical = list(df.columns[df.dtypes == float])\n",
    "\n",
    "categorical = list(df.columns[df.dtypes != float])"
   ]
  },
  {
   "cell_type": "markdown",
   "id": "8a4282c0",
   "metadata": {},
   "source": [
    "## Question 1\n",
    "What is the most frequent observation (mode) for the column ocean_proximity?\n",
    "\n",
    "Options:\n",
    "\n",
    "- NEAR BAY\n",
    "- <1H OCEAN\n",
    "- INLAND\n",
    "- NEAR OCEAN\n"
   ]
  },
  {
   "cell_type": "code",
   "execution_count": 85,
   "id": "36e50b9e",
   "metadata": {},
   "outputs": [
    {
     "data": {
      "text/plain": [
       "0    <1H OCEAN\n",
       "Name: ocean_proximity, dtype: object"
      ]
     },
     "execution_count": 85,
     "metadata": {},
     "output_type": "execute_result"
    }
   ],
   "source": [
    "df.ocean_proximity.mode()"
   ]
  },
  {
   "cell_type": "code",
   "execution_count": 86,
   "id": "8a7b0d69",
   "metadata": {},
   "outputs": [
    {
     "data": {
      "text/plain": [
       "<AxesSubplot:xlabel='ocean_proximity', ylabel='Count'>"
      ]
     },
     "execution_count": 86,
     "metadata": {},
     "output_type": "execute_result"
    },
    {
     "data": {
      "image/png": "[encoded data removed]",
      "text/plain": [
       "<Figure size 432x288 with 1 Axes>"
      ]
     },
     "metadata": {
      "needs_background": "light"
     },
     "output_type": "display_data"
    }
   ],
   "source": [
    "sns.histplot(df.ocean_proximity)"
   ]
  },
  {
   "cell_type": "markdown",
   "id": "e52b500e",
   "metadata": {},
   "source": [
    "Question 2\n",
    "\n",
    "- Create the correlation matrix for the numerical features of your train dataset.\n",
    "    - In a correlation matrix, you compute the correlation coefficient between every pair of features in the dataset.\n",
    "- What are the two features that have the biggest correlation in this dataset?\n",
    "\n",
    "Options:\n",
    "\n",
    "- total_bedrooms and households\n",
    "- total_bedrooms and total_rooms\n",
    "- population and households\n",
    "- population_per_household and total_rooms\n"
   ]
  },
  {
   "cell_type": "code",
   "execution_count": 110,
   "id": "0359a6ec",
   "metadata": {},
   "outputs": [
    {
     "data": {
      "text/plain": [
       "longitude                   0.099773\n",
       "latitude                    0.106389\n",
       "housing_median_age          0.135622\n",
       "total_rooms                 0.927058\n",
       "total_bedrooms              0.974366\n",
       "population                  0.907222\n",
       "households                  0.974366\n",
       "median_income               0.688075\n",
       "median_house_value          0.688075\n",
       "rooms_per_household         0.326895\n",
       "bedrooms_per_room           0.135622\n",
       "population_per_household    0.069863\n",
       "dtype: float64"
      ]
     },
     "execution_count": 110,
     "metadata": {},
     "output_type": "execute_result"
    }
   ],
   "source": [
    "corr = df[numerical].corr()\n",
    "\n",
    "corr[corr !=1].max()"
   ]
  },
  {
   "cell_type": "code",
   "execution_count": 120,
   "id": "c76fcbea",
   "metadata": {},
   "outputs": [
    {
     "data": {
      "image/png": "[encoded data removed]",
      "text/plain": [
       "<Figure size 1080x720 with 2 Axes>"
      ]
     },
     "metadata": {
      "needs_background": "light"
     },
     "output_type": "display_data"
    }
   ],
   "source": [
    "plt.figure(figsize = (15,10))\n",
    "\n",
    "sns.heatmap(df[numerical].corr(), annot = True, linewidths = .5, cmap = 'Blues')\n",
    "plt.title('Heatmap with numerical data correlations')\n",
    "plt.show()"
   ]
  },
  {
   "cell_type": "code",
   "execution_count": 122,
   "id": "edfd711d",
   "metadata": {},
   "outputs": [
    {
     "data": {
      "text/plain": [
       "longitude                 longitude                   1.000000\n",
       "latitude                  latitude                    1.000000\n",
       "bedrooms_per_room         bedrooms_per_room           1.000000\n",
       "rooms_per_household       rooms_per_household         1.000000\n",
       "median_house_value        median_house_value          1.000000\n",
       "median_income             median_income               1.000000\n",
       "households                households                  1.000000\n",
       "population                population                  1.000000\n",
       "total_bedrooms            total_bedrooms              1.000000\n",
       "total_rooms               total_rooms                 1.000000\n",
       "housing_median_age        housing_median_age          1.000000\n",
       "population_per_household  population_per_household    1.000000\n",
       "total_bedrooms            households                  0.974366\n",
       "households                total_bedrooms              0.974366\n",
       "total_bedrooms            total_rooms                 0.927058\n",
       "dtype: float64"
      ]
     },
     "execution_count": 122,
     "metadata": {},
     "output_type": "execute_result"
    }
   ],
   "source": [
    "#@ INSPECTING CORRELATION:\n",
    "df[numerical].corr().unstack().sort_values(ascending = False)[:15]"
   ]
  },
  {
   "cell_type": "markdown",
   "id": "9540e877",
   "metadata": {},
   "source": [
    "### Make median_house_value binary\n",
    "\n",
    "- We need to turn the median_house_value variable from numeric into binary.\n",
    "- Let's create a variable above_average which is 1 if the median_house_value is above its mean value and 0 otherwise."
   ]
  },
  {
   "cell_type": "code",
   "execution_count": 197,
   "id": "ac12f9d7",
   "metadata": {},
   "outputs": [],
   "source": [
    "data = df.copy()\n",
    "\n",
    "above_average = np.array((data.median_house_value > data.median_house_value.mean()))\n",
    "\n",
    "data['above_average'] = above_average"
   ]
  },
  {
   "cell_type": "code",
   "execution_count": 198,
   "id": "484f1294",
   "metadata": {},
   "outputs": [
    {
     "data": {
      "text/plain": [
       "array([1, 1, 1, ..., 1, 1, 1])"
      ]
     },
     "execution_count": 198,
     "metadata": {},
     "output_type": "execute_result"
    }
   ],
   "source": [
    "# Or\n",
    "mean = data['median_house_value']\n",
    "np.where(data['median_house_value']>=mean,1,0)"
   ]
  },
  {
   "cell_type": "markdown",
   "id": "0512233f",
   "metadata": {},
   "source": [
    "### Split the data\n",
    "\n",
    "- Split your data in train/val/test sets, with 60%/20%/20% distribution.\n",
    "- Use Scikit-Learn for that (the train_test_split function) and set the seed to 42.\n",
    "- Make sure that the target value (median_house_value) is not in your dataframe."
   ]
  },
  {
   "cell_type": "code",
   "execution_count": 199,
   "id": "178be3da",
   "metadata": {},
   "outputs": [],
   "source": [
    "# Preprocess the dataset drop the house price that we converted to binary\n",
    "\n",
    "data = data.drop('median_house_value', axis = 1)"
   ]
  },
  {
   "cell_type": "code",
   "execution_count": 200,
   "id": "c0163f0c",
   "metadata": {},
   "outputs": [],
   "source": [
    "# Split the data\n",
    "\n",
    "df_full_train, df_test = train_test_split(data, test_size = 0.2, random_state = 42)\n",
    "df_train, df_val = train_test_split(df_full_train, test_size = 0.25, random_state = 42)"
   ]
  },
  {
   "cell_type": "code",
   "execution_count": 201,
   "id": "7a6da176",
   "metadata": {},
   "outputs": [],
   "source": [
    "# Reset indices\n",
    "\n",
    "df_train = df_train.reset_index(drop = True)\n",
    "df_val = df_val.reset_index(drop = True)\n",
    "df_test = df_test.reset_index(drop = True)"
   ]
  },
  {
   "cell_type": "code",
   "execution_count": 202,
   "id": "a9df34c0",
   "metadata": {},
   "outputs": [],
   "source": [
    "# Get target variables\n",
    "y_train = df_train.above_average.values\n",
    "y_val = df_val.above_average.values\n",
    "y_test = df_test.above_average.values\n",
    "\n",
    "# del df_train['above_average']\n",
    "# del df_val['above_average']\n",
    "# del df_test['above_average']"
   ]
  },
  {
   "cell_type": "markdown",
   "id": "3985c8c9",
   "metadata": {},
   "source": [
    "## Question 3\n",
    "\n",
    "- Calculate the mutual information score between above_average and ocean_proximity . Use the training set only.\n",
    "- Round it to 2 decimals using round(score, 2)\n",
    "- What is their mutual information score?\n",
    "\n",
    "Options:\n",
    "\n",
    "- 0.26\n",
    "- 0\n",
    "- 0.10\n",
    "- 0.16\n"
   ]
  },
  {
   "cell_type": "code",
   "execution_count": 203,
   "id": "850a0ec6",
   "metadata": {},
   "outputs": [
    {
     "data": {
      "text/plain": [
       "0.1"
      ]
     },
     "execution_count": 203,
     "metadata": {},
     "output_type": "execute_result"
    }
   ],
   "source": [
    "mi_score = mutual_info_score(df_train.above_average, df_train.ocean_proximity)\n",
    "\n",
    "round(mi_score, 2)"
   ]
  },
  {
   "cell_type": "code",
   "execution_count": 204,
   "id": "d91b4d3f",
   "metadata": {},
   "outputs": [
    {
     "data": {
      "text/html": [
       "<div>\n",
       "<style scoped>\n",
       "    .dataframe tbody tr th:only-of-type {\n",
       "        vertical-align: middle;\n",
       "    }\n",
       "\n",
       "    .dataframe tbody tr th {\n",
       "        vertical-align: top;\n",
       "    }\n",
       "\n",
       "    .dataframe thead th {\n",
       "        text-align: right;\n",
       "    }\n",
       "</style>\n",
       "<table border=\"1\" class=\"dataframe\">\n",
       "  <thead>\n",
       "    <tr style=\"text-align: right;\">\n",
       "      <th></th>\n",
       "      <th>MI</th>\n",
       "    </tr>\n",
       "  </thead>\n",
       "  <tbody>\n",
       "    <tr>\n",
       "      <th>ocean_proximity</th>\n",
       "      <td>0.101384</td>\n",
       "    </tr>\n",
       "  </tbody>\n",
       "</table>\n",
       "</div>"
      ],
      "text/plain": [
       "                       MI\n",
       "ocean_proximity  0.101384"
      ]
     },
     "execution_count": 204,
     "metadata": {},
     "output_type": "execute_result"
    }
   ],
   "source": [
    "def calculate_mi(series):\n",
    "    return mutual_info_score(series, df_train.above_average)\n",
    "\n",
    "#@ DEFINING FUNCTION:\n",
    "def calculate_mi(series):\n",
    "    return mutual_info_score(series, df_train.above_average)\n",
    "\n",
    "#@ IMPLEMENTATION:\n",
    "df_mi = df_train[categorical].apply(calculate_mi)\n",
    "df_mi = df_mi.sort_values(ascending=False).to_frame(name='MI')\n",
    "df_mi"
   ]
  },
  {
   "cell_type": "markdown",
   "id": "d3225085",
   "metadata": {},
   "source": [
    "## Question 4\n",
    "\n",
    "- Now let's train a logistic regression\n",
    "- Remember that we have one categorical variable ocean_proximity in the data. Include it using one-hot encoding.\n",
    "- Fit the model on the training dataset.\n",
    "    To make sure the results are reproducible across different versions of Scikit-Learn, fit the model with these parameters:\n",
    "    model = LogisticRegression(solver=\"liblinear\", C=1.0, max_iter=1000, random_state=42)\n",
    "- Calculate the accuracy on the validation dataset and round it to 2 decimal digits.\n",
    "\n",
    "Options:\n",
    "\n",
    "- 0.60\n",
    "- 0.72\n",
    "- 0.84\n",
    "- 0.95\n"
   ]
  },
  {
   "cell_type": "markdown",
   "id": "b2225ba3",
   "metadata": {},
   "source": [
    "### Drop the target !!!"
   ]
  },
  {
   "cell_type": "code",
   "execution_count": 238,
   "id": "29c77dc3",
   "metadata": {},
   "outputs": [],
   "source": [
    "#@ PREPARING THE DATASET:\n",
    "df_train = df_train.drop('above_average', axis=1)\n",
    "df_val = df_val.drop('above_average', axis=1)\n",
    "df_test = df_test.drop('above_average', axis=1)"
   ]
  },
  {
   "cell_type": "markdown",
   "id": "b6268143",
   "metadata": {},
   "source": [
    "### One-hot encoding"
   ]
  },
  {
   "cell_type": "code",
   "execution_count": 270,
   "id": "47a21f00",
   "metadata": {},
   "outputs": [],
   "source": [
    "numerical = list(df_train.columns[df_train.dtypes == float])\n",
    "\n",
    "categorical = list(df_train.columns[df_train.dtypes != float])"
   ]
  },
  {
   "cell_type": "code",
   "execution_count": 271,
   "id": "28535121",
   "metadata": {},
   "outputs": [],
   "source": [
    "train_dicts = df_train[categorical + numerical].to_dict(orient = 'records')"
   ]
  },
  {
   "cell_type": "code",
   "execution_count": 272,
   "id": "ce948350",
   "metadata": {},
   "outputs": [],
   "source": [
    "# Initialize\n",
    "dv = DictVectorizer(sparse = False)\n",
    "\n",
    "# Fit\n",
    "dv.fit(train_dicts)\n",
    "\n",
    "# Use\n",
    "X_train = dv.transform(train_dicts)\n",
    "\n",
    "val_dicts = df_val[categorical + numerical].to_dict(orient = 'records')\n",
    "X_val = dv.transform(val_dicts)"
   ]
  },
  {
   "cell_type": "markdown",
   "id": "913086ed",
   "metadata": {},
   "source": [
    "### Logistic regression"
   ]
  },
  {
   "cell_type": "code",
   "execution_count": 244,
   "id": "dc37472b",
   "metadata": {},
   "outputs": [],
   "source": [
    "# Set model\n",
    "model = LogisticRegression(solver=\"liblinear\", C=1.0, max_iter=1000, random_state=42)"
   ]
  },
  {
   "cell_type": "code",
   "execution_count": 245,
   "id": "b9cf3ca8",
   "metadata": {},
   "outputs": [
    {
     "data": {
      "text/plain": [
       "LogisticRegression(max_iter=1000, random_state=42, solver='liblinear')"
      ]
     },
     "execution_count": 245,
     "metadata": {},
     "output_type": "execute_result"
    }
   ],
   "source": [
    "model.fit(X_train, y_train)"
   ]
  },
  {
   "cell_type": "code",
   "execution_count": 246,
   "id": "76ff26d5",
   "metadata": {},
   "outputs": [],
   "source": [
    "y_pred = model.predict(X_val)"
   ]
  },
  {
   "cell_type": "code",
   "execution_count": 249,
   "id": "c01bffb2",
   "metadata": {},
   "outputs": [
    {
     "data": {
      "text/plain": [
       "0.84"
      ]
     },
     "execution_count": 249,
     "metadata": {},
     "output_type": "execute_result"
    }
   ],
   "source": [
    "accuracy_all_feat = round((y_val == y_pred).mean(), 2)\n",
    "\n",
    "accuracy_all_feat"
   ]
  },
  {
   "cell_type": "markdown",
   "id": "05b2322e",
   "metadata": {},
   "source": [
    "## Question 5\n",
    "\n",
    "- Let's find the least useful feature using the **feature elimination technique**.\n",
    "- Train a model with all these features (using the same parameters as in Q4).\n",
    "- Now exclude each feature from this set and train a model without it. Record the accuracy for each model.\n",
    "- For each feature, calculate the difference between the original accuracy and the accuracy without the feature.\n",
    "- Which of following feature has the smallest difference?\n",
    "    - total_rooms\n",
    "    - total_bedrooms\n",
    "    - population\n",
    "    - households\n",
    "\n",
    "Note: the difference doesn't have to be positive"
   ]
  },
  {
   "cell_type": "code",
   "execution_count": 280,
   "id": "e6e0bcc2",
   "metadata": {
    "scrolled": false
   },
   "outputs": [
    {
     "name": "stdout",
     "output_type": "stream",
     "text": [
      "longitude 0.00642441860465115 0.8335755813953488\n",
      "latitude 0.005939922480620141 0.8340600775193798\n",
      "housing_median_age 0.010058139534883659 0.8299418604651163\n",
      "total_rooms 0.0032751937984495383 0.8367248062015504\n",
      "total_bedrooms 0.003517441860465098 0.8364825581395349\n",
      "population 0.013691860465116279 0.8263081395348837\n",
      "households 0.006908914728682158 0.8330910852713178\n",
      "median_income 0.05463178294573645 0.7853682170542635\n",
      "rooms_per_household 0.004001937984496107 0.8359980620155039\n",
      "bedrooms_per_room 0.004970930232558124 0.8350290697674418\n",
      "population_per_household 0.003517441860465098 0.8364825581395349\n",
      "ocean_proximity 0.0204748062015504 0.8195251937984496\n"
     ]
    }
   ],
   "source": [
    "features = (numerical + categorical)\n",
    "\n",
    "for feat in features:\n",
    "    \n",
    "    subset = features.copy()\n",
    "    subset.remove(feat)\n",
    "\n",
    "    train_dicts = df_train[subset].to_dict(orient = 'records')\n",
    "\n",
    "    val_dicts = df_val[subset].to_dict(orient = 'records')\n",
    "\n",
    "    # Initialize\n",
    "    dv = DictVectorizer(sparse = False)\n",
    "\n",
    "    # Fit\n",
    "    dv.fit(train_dicts)\n",
    "\n",
    "    # Use\n",
    "    X_train = dv.transform(train_dicts)\n",
    "\n",
    "    X_val = dv.transform(val_dicts)\n",
    "\n",
    "    # Set model\n",
    "    model = LogisticRegression(solver=\"liblinear\", C=1.0, max_iter=1000, random_state=42)\n",
    "\n",
    "    model.fit(X_train, y_train)\n",
    "\n",
    "    y_pred = model.predict(X_val)\n",
    "\n",
    "    score = accuracy_score(y_val, y_pred)\n",
    "    \n",
    "    print(feat, accuracy_all_feat - score, score)\n",
    "    "
   ]
  },
  {
   "cell_type": "markdown",
   "id": "a6d74446",
   "metadata": {},
   "source": [
    "Total rooms has the smallest difference total_rooms 0.0032751937984495383 0.8367248062015504"
   ]
  },
  {
   "cell_type": "markdown",
   "id": "73185b32",
   "metadata": {},
   "source": [
    "## Question 6\n",
    "\n",
    "- For this question, we'll see how to use a **linear regression model** from Scikit-Learn\n",
    "- We'll need to use the original column 'median_house_value'. Apply the logarithmic transformation to this column.\n",
    "- Fit the Ridge regression model (model = Ridge(alpha=a, solver=\"sag\", random_state=42)) on the training data.\n",
    "- This model has a parameter alpha. Let's try the following values: [0, 0.01, 0.1, 1, 10]\n",
    "- Which of these alphas leads to the best RMSE on the validation set? Round your RMSE scores to 3 decimal digits.\n",
    "\n",
    "If there are multiple options, select the smallest alpha.\n",
    "\n",
    "Options:\n",
    "\n",
    "- 0\n",
    "- 0.01\n",
    "- 0.1\n",
    "- 1\n",
    "- 10\n"
   ]
  },
  {
   "cell_type": "code",
   "execution_count": 320,
   "id": "e763df41",
   "metadata": {},
   "outputs": [
    {
     "data": {
      "text/html": [
       "<div>\n",
       "<style scoped>\n",
       "    .dataframe tbody tr th:only-of-type {\n",
       "        vertical-align: middle;\n",
       "    }\n",
       "\n",
       "    .dataframe tbody tr th {\n",
       "        vertical-align: top;\n",
       "    }\n",
       "\n",
       "    .dataframe thead th {\n",
       "        text-align: right;\n",
       "    }\n",
       "</style>\n",
       "<table border=\"1\" class=\"dataframe\">\n",
       "  <thead>\n",
       "    <tr style=\"text-align: right;\">\n",
       "      <th></th>\n",
       "      <th>longitude</th>\n",
       "      <th>latitude</th>\n",
       "      <th>housing_median_age</th>\n",
       "      <th>total_rooms</th>\n",
       "      <th>total_bedrooms</th>\n",
       "      <th>population</th>\n",
       "      <th>households</th>\n",
       "      <th>median_income</th>\n",
       "      <th>median_house_value</th>\n",
       "      <th>ocean_proximity</th>\n",
       "      <th>rooms_per_household</th>\n",
       "      <th>bedrooms_per_room</th>\n",
       "      <th>population_per_household</th>\n",
       "    </tr>\n",
       "  </thead>\n",
       "  <tbody>\n",
       "    <tr>\n",
       "      <th>0</th>\n",
       "      <td>-122.23</td>\n",
       "      <td>37.88</td>\n",
       "      <td>41.0</td>\n",
       "      <td>880.0</td>\n",
       "      <td>129.0</td>\n",
       "      <td>322.0</td>\n",
       "      <td>126.0</td>\n",
       "      <td>8.3252</td>\n",
       "      <td>0.604042</td>\n",
       "      <td>NEAR BAY</td>\n",
       "      <td>6.984127</td>\n",
       "      <td>0.146591</td>\n",
       "      <td>2.555556</td>\n",
       "    </tr>\n",
       "    <tr>\n",
       "      <th>1</th>\n",
       "      <td>-122.22</td>\n",
       "      <td>37.86</td>\n",
       "      <td>21.0</td>\n",
       "      <td>7099.0</td>\n",
       "      <td>1106.0</td>\n",
       "      <td>2401.0</td>\n",
       "      <td>1138.0</td>\n",
       "      <td>8.3014</td>\n",
       "      <td>0.602940</td>\n",
       "      <td>NEAR BAY</td>\n",
       "      <td>6.238137</td>\n",
       "      <td>0.155797</td>\n",
       "      <td>2.109842</td>\n",
       "    </tr>\n",
       "    <tr>\n",
       "      <th>2</th>\n",
       "      <td>-122.24</td>\n",
       "      <td>37.85</td>\n",
       "      <td>52.0</td>\n",
       "      <td>1467.0</td>\n",
       "      <td>190.0</td>\n",
       "      <td>496.0</td>\n",
       "      <td>177.0</td>\n",
       "      <td>7.2574</td>\n",
       "      <td>0.602854</td>\n",
       "      <td>NEAR BAY</td>\n",
       "      <td>8.288136</td>\n",
       "      <td>0.129516</td>\n",
       "      <td>2.802260</td>\n",
       "    </tr>\n",
       "    <tr>\n",
       "      <th>3</th>\n",
       "      <td>-122.25</td>\n",
       "      <td>37.85</td>\n",
       "      <td>52.0</td>\n",
       "      <td>1274.0</td>\n",
       "      <td>235.0</td>\n",
       "      <td>558.0</td>\n",
       "      <td>219.0</td>\n",
       "      <td>5.6431</td>\n",
       "      <td>0.602704</td>\n",
       "      <td>NEAR BAY</td>\n",
       "      <td>5.817352</td>\n",
       "      <td>0.184458</td>\n",
       "      <td>2.547945</td>\n",
       "    </tr>\n",
       "    <tr>\n",
       "      <th>4</th>\n",
       "      <td>-122.25</td>\n",
       "      <td>37.85</td>\n",
       "      <td>52.0</td>\n",
       "      <td>1627.0</td>\n",
       "      <td>280.0</td>\n",
       "      <td>565.0</td>\n",
       "      <td>259.0</td>\n",
       "      <td>3.8462</td>\n",
       "      <td>0.602717</td>\n",
       "      <td>NEAR BAY</td>\n",
       "      <td>6.281853</td>\n",
       "      <td>0.172096</td>\n",
       "      <td>2.181467</td>\n",
       "    </tr>\n",
       "  </tbody>\n",
       "</table>\n",
       "</div>"
      ],
      "text/plain": [
       "   longitude  latitude  housing_median_age  total_rooms  total_bedrooms  \\\n",
       "0    -122.23     37.88                41.0        880.0           129.0   \n",
       "1    -122.22     37.86                21.0       7099.0          1106.0   \n",
       "2    -122.24     37.85                52.0       1467.0           190.0   \n",
       "3    -122.25     37.85                52.0       1274.0           235.0   \n",
       "4    -122.25     37.85                52.0       1627.0           280.0   \n",
       "\n",
       "   population  households  median_income  median_house_value ocean_proximity  \\\n",
       "0       322.0       126.0         8.3252            0.604042        NEAR BAY   \n",
       "1      2401.0      1138.0         8.3014            0.602940        NEAR BAY   \n",
       "2       496.0       177.0         7.2574            0.602854        NEAR BAY   \n",
       "3       558.0       219.0         5.6431            0.602704        NEAR BAY   \n",
       "4       565.0       259.0         3.8462            0.602717        NEAR BAY   \n",
       "\n",
       "   rooms_per_household  bedrooms_per_room  population_per_household  \n",
       "0             6.984127           0.146591                  2.555556  \n",
       "1             6.238137           0.155797                  2.109842  \n",
       "2             8.288136           0.129516                  2.802260  \n",
       "3             5.817352           0.184458                  2.547945  \n",
       "4             6.281853           0.172096                  2.181467  "
      ]
     },
     "execution_count": 320,
     "metadata": {},
     "output_type": "execute_result"
    }
   ],
   "source": [
    "df.head(5)"
   ]
  },
  {
   "cell_type": "code",
   "execution_count": 337,
   "id": "7dc271a9",
   "metadata": {},
   "outputs": [],
   "source": [
    "data = df\n",
    "\n",
    "data['median_house_value'] = np.log1p(data['median_house_value'])"
   ]
  },
  {
   "cell_type": "code",
   "execution_count": 338,
   "id": "3195e104",
   "metadata": {},
   "outputs": [
    {
     "data": {
      "text/html": [
       "<div>\n",
       "<style scoped>\n",
       "    .dataframe tbody tr th:only-of-type {\n",
       "        vertical-align: middle;\n",
       "    }\n",
       "\n",
       "    .dataframe tbody tr th {\n",
       "        vertical-align: top;\n",
       "    }\n",
       "\n",
       "    .dataframe thead th {\n",
       "        text-align: right;\n",
       "    }\n",
       "</style>\n",
       "<table border=\"1\" class=\"dataframe\">\n",
       "  <thead>\n",
       "    <tr style=\"text-align: right;\">\n",
       "      <th></th>\n",
       "      <th>longitude</th>\n",
       "      <th>latitude</th>\n",
       "      <th>housing_median_age</th>\n",
       "      <th>total_rooms</th>\n",
       "      <th>total_bedrooms</th>\n",
       "      <th>population</th>\n",
       "      <th>households</th>\n",
       "      <th>median_income</th>\n",
       "      <th>median_house_value</th>\n",
       "      <th>ocean_proximity</th>\n",
       "      <th>rooms_per_household</th>\n",
       "      <th>bedrooms_per_room</th>\n",
       "      <th>population_per_household</th>\n",
       "    </tr>\n",
       "  </thead>\n",
       "  <tbody>\n",
       "    <tr>\n",
       "      <th>0</th>\n",
       "      <td>-122.23</td>\n",
       "      <td>37.88</td>\n",
       "      <td>41.0</td>\n",
       "      <td>880.0</td>\n",
       "      <td>129.0</td>\n",
       "      <td>322.0</td>\n",
       "      <td>126.0</td>\n",
       "      <td>8.3252</td>\n",
       "      <td>13.022766</td>\n",
       "      <td>NEAR BAY</td>\n",
       "      <td>6.984127</td>\n",
       "      <td>0.146591</td>\n",
       "      <td>2.555556</td>\n",
       "    </tr>\n",
       "    <tr>\n",
       "      <th>1</th>\n",
       "      <td>-122.22</td>\n",
       "      <td>37.86</td>\n",
       "      <td>21.0</td>\n",
       "      <td>7099.0</td>\n",
       "      <td>1106.0</td>\n",
       "      <td>2401.0</td>\n",
       "      <td>1138.0</td>\n",
       "      <td>8.3014</td>\n",
       "      <td>12.789687</td>\n",
       "      <td>NEAR BAY</td>\n",
       "      <td>6.238137</td>\n",
       "      <td>0.155797</td>\n",
       "      <td>2.109842</td>\n",
       "    </tr>\n",
       "    <tr>\n",
       "      <th>2</th>\n",
       "      <td>-122.24</td>\n",
       "      <td>37.85</td>\n",
       "      <td>52.0</td>\n",
       "      <td>1467.0</td>\n",
       "      <td>190.0</td>\n",
       "      <td>496.0</td>\n",
       "      <td>177.0</td>\n",
       "      <td>7.2574</td>\n",
       "      <td>12.771673</td>\n",
       "      <td>NEAR BAY</td>\n",
       "      <td>8.288136</td>\n",
       "      <td>0.129516</td>\n",
       "      <td>2.802260</td>\n",
       "    </tr>\n",
       "    <tr>\n",
       "      <th>3</th>\n",
       "      <td>-122.25</td>\n",
       "      <td>37.85</td>\n",
       "      <td>52.0</td>\n",
       "      <td>1274.0</td>\n",
       "      <td>235.0</td>\n",
       "      <td>558.0</td>\n",
       "      <td>219.0</td>\n",
       "      <td>5.6431</td>\n",
       "      <td>12.740520</td>\n",
       "      <td>NEAR BAY</td>\n",
       "      <td>5.817352</td>\n",
       "      <td>0.184458</td>\n",
       "      <td>2.547945</td>\n",
       "    </tr>\n",
       "    <tr>\n",
       "      <th>4</th>\n",
       "      <td>-122.25</td>\n",
       "      <td>37.85</td>\n",
       "      <td>52.0</td>\n",
       "      <td>1627.0</td>\n",
       "      <td>280.0</td>\n",
       "      <td>565.0</td>\n",
       "      <td>259.0</td>\n",
       "      <td>3.8462</td>\n",
       "      <td>12.743154</td>\n",
       "      <td>NEAR BAY</td>\n",
       "      <td>6.281853</td>\n",
       "      <td>0.172096</td>\n",
       "      <td>2.181467</td>\n",
       "    </tr>\n",
       "  </tbody>\n",
       "</table>\n",
       "</div>"
      ],
      "text/plain": [
       "   longitude  latitude  housing_median_age  total_rooms  total_bedrooms  \\\n",
       "0    -122.23     37.88                41.0        880.0           129.0   \n",
       "1    -122.22     37.86                21.0       7099.0          1106.0   \n",
       "2    -122.24     37.85                52.0       1467.0           190.0   \n",
       "3    -122.25     37.85                52.0       1274.0           235.0   \n",
       "4    -122.25     37.85                52.0       1627.0           280.0   \n",
       "\n",
       "   population  households  median_income  median_house_value ocean_proximity  \\\n",
       "0       322.0       126.0         8.3252           13.022766        NEAR BAY   \n",
       "1      2401.0      1138.0         8.3014           12.789687        NEAR BAY   \n",
       "2       496.0       177.0         7.2574           12.771673        NEAR BAY   \n",
       "3       558.0       219.0         5.6431           12.740520        NEAR BAY   \n",
       "4       565.0       259.0         3.8462           12.743154        NEAR BAY   \n",
       "\n",
       "   rooms_per_household  bedrooms_per_room  population_per_household  \n",
       "0             6.984127           0.146591                  2.555556  \n",
       "1             6.238137           0.155797                  2.109842  \n",
       "2             8.288136           0.129516                  2.802260  \n",
       "3             5.817352           0.184458                  2.547945  \n",
       "4             6.281853           0.172096                  2.181467  "
      ]
     },
     "execution_count": 338,
     "metadata": {},
     "output_type": "execute_result"
    }
   ],
   "source": [
    "data.head(5)"
   ]
  },
  {
   "cell_type": "code",
   "execution_count": 339,
   "id": "8c7d8a40",
   "metadata": {},
   "outputs": [
    {
     "data": {
      "text/plain": [
       "<AxesSubplot:xlabel='median_house_value', ylabel='Count'>"
      ]
     },
     "execution_count": 339,
     "metadata": {},
     "output_type": "execute_result"
    },
    {
     "data": {
      "image/png": "[encoded data removed]",
      "text/plain": [
       "<Figure size 432x288 with 1 Axes>"
      ]
     },
     "metadata": {
      "needs_background": "light"
     },
     "output_type": "display_data"
    }
   ],
   "source": [
    "sns.histplot(data.median_house_value)"
   ]
  },
  {
   "cell_type": "code",
   "execution_count": 340,
   "id": "9133eadb",
   "metadata": {},
   "outputs": [],
   "source": [
    "df_full_train, df_test = train_test_split(data, test_size = 0.2, random_state = 42)\n",
    "df_train, df_val = train_test_split(df_full_train, test_size = 0.25, random_state = 42)\n",
    "\n",
    "\n",
    "# Reset indices\n",
    "\n",
    "df_train = df_train.reset_index(drop = True)\n",
    "df_val = df_val.reset_index(drop = True)\n",
    "df_test = df_test.reset_index(drop = True)\n",
    "\n",
    "# Get target\n",
    "y_train = df_train.median_house_value.values\n",
    "y_val = df_val.median_house_value.values\n",
    "y_test = df_test.median_house_value.values\n",
    "\n",
    "del df_train['median_house_value']\n",
    "del df_val['median_house_value']\n",
    "del df_test['median_house_value']"
   ]
  },
  {
   "cell_type": "code",
   "execution_count": 342,
   "id": "894c407f",
   "metadata": {},
   "outputs": [],
   "source": [
    "## Vectorizer\n",
    "\n",
    "train_dicts = df_train.to_dict(orient = 'records')\n",
    "\n",
    "val_dicts  = df_val.to_dict(orient = 'records')\n",
    "\n",
    "dv = DictVectorizer()\n",
    "\n",
    "dv.fit(train_dicts)\n",
    "\n",
    "X_train = dv.transform(train_dicts)\n",
    "\n",
    "X_val = dv.transform(val_dicts)"
   ]
  },
  {
   "cell_type": "code",
   "execution_count": 344,
   "id": "7b18a10b",
   "metadata": {},
   "outputs": [
    {
     "name": "stderr",
     "output_type": "stream",
     "text": [
      "/home/giorgos/anaconda3/lib/python3.9/site-packages/sklearn/linear_model/_ridge.py:729: UserWarning: \"sag\" solver requires many iterations to fit an intercept with sparse inputs. Either set the solver to \"auto\" or \"sparse_cg\", or set a low \"tol\" and a high \"max_iter\" (especially if inputs are not standardized).\n",
      "  warnings.warn(\n"
     ]
    },
    {
     "name": "stdout",
     "output_type": "stream",
     "text": [
      "0 0.5249\n"
     ]
    },
    {
     "name": "stderr",
     "output_type": "stream",
     "text": [
      "/home/giorgos/anaconda3/lib/python3.9/site-packages/sklearn/linear_model/_ridge.py:729: UserWarning: \"sag\" solver requires many iterations to fit an intercept with sparse inputs. Either set the solver to \"auto\" or \"sparse_cg\", or set a low \"tol\" and a high \"max_iter\" (especially if inputs are not standardized).\n",
      "  warnings.warn(\n"
     ]
    },
    {
     "name": "stdout",
     "output_type": "stream",
     "text": [
      "0.01 0.5249\n"
     ]
    },
    {
     "name": "stderr",
     "output_type": "stream",
     "text": [
      "/home/giorgos/anaconda3/lib/python3.9/site-packages/sklearn/linear_model/_ridge.py:729: UserWarning: \"sag\" solver requires many iterations to fit an intercept with sparse inputs. Either set the solver to \"auto\" or \"sparse_cg\", or set a low \"tol\" and a high \"max_iter\" (especially if inputs are not standardized).\n",
      "  warnings.warn(\n"
     ]
    },
    {
     "name": "stdout",
     "output_type": "stream",
     "text": [
      "0.1 0.5249\n"
     ]
    },
    {
     "name": "stderr",
     "output_type": "stream",
     "text": [
      "/home/giorgos/anaconda3/lib/python3.9/site-packages/sklearn/linear_model/_ridge.py:729: UserWarning: \"sag\" solver requires many iterations to fit an intercept with sparse inputs. Either set the solver to \"auto\" or \"sparse_cg\", or set a low \"tol\" and a high \"max_iter\" (especially if inputs are not standardized).\n",
      "  warnings.warn(\n"
     ]
    },
    {
     "name": "stdout",
     "output_type": "stream",
     "text": [
      "1 0.5249\n"
     ]
    },
    {
     "name": "stderr",
     "output_type": "stream",
     "text": [
      "/home/giorgos/anaconda3/lib/python3.9/site-packages/sklearn/linear_model/_ridge.py:729: UserWarning: \"sag\" solver requires many iterations to fit an intercept with sparse inputs. Either set the solver to \"auto\" or \"sparse_cg\", or set a low \"tol\" and a high \"max_iter\" (especially if inputs are not standardized).\n",
      "  warnings.warn(\n"
     ]
    },
    {
     "name": "stdout",
     "output_type": "stream",
     "text": [
      "10 0.5249\n"
     ]
    }
   ],
   "source": [
    "for a in [0, 0.01, 0.1, 1, 10]:\n",
    "    model = Ridge(alpha=a, solver=\"sag\", random_state=42)\n",
    "    \n",
    "    model.fit(X_train, y_train)\n",
    "    \n",
    "    y_pred = model.predict(X_val)\n",
    "    \n",
    "    rmse = np.sqrt(mean_squared_error(y_val, y_pred))\n",
    "    \n",
    "    print(a, round(rmse, 4))"
   ]
  },
  {
   "cell_type": "markdown",
   "id": "75ac3d76",
   "metadata": {},
   "source": [
    "**Since all the scores are equal we are going to use alpha=0, smallest alpha**"
   ]
  },
  {
   "cell_type": "code",
   "execution_count": null,
   "id": "c79067c0",
   "metadata": {},
   "outputs": [],
   "source": []
  }
 ],
 "metadata": {
  "kernelspec": {
   "display_name": "Python 3 (ipykernel)",
   "language": "python",
   "name": "python3"
  },
  "language_info": {
   "codemirror_mode": {
    "name": "ipython",
    "version": 3
   },
   "file_extension": ".py",
   "mimetype": "text/x-python",
   "name": "python",
   "nbconvert_exporter": "python",
   "pygments_lexer": "ipython3",
   "version": "3.9.12"
  }
 },
 "nbformat": 4,
 "nbformat_minor": 5
}
