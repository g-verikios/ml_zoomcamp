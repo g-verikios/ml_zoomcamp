{
 "cells": [
  {
   "cell_type": "code",
   "execution_count": 1,
   "id": "8a82372e",
   "metadata": {},
   "outputs": [
    {
     "data": {
      "application/javascript": [
       "IPython.notebook.set_autosave_interval(0)"
      ]
     },
     "metadata": {},
     "output_type": "display_data"
    },
    {
     "name": "stdout",
     "output_type": "stream",
     "text": [
      "Autosave disabled\n"
     ]
    }
   ],
   "source": [
    "%autosave 0"
   ]
  },
  {
   "cell_type": "code",
   "execution_count": 2,
   "id": "d17249bb",
   "metadata": {},
   "outputs": [],
   "source": [
    "import requests"
   ]
  },
  {
   "cell_type": "code",
   "execution_count": 3,
   "id": "c68037ac",
   "metadata": {},
   "outputs": [],
   "source": [
    "url = 'http://localhost:9696/predict'"
   ]
  },
  {
   "cell_type": "code",
   "execution_count": 4,
   "id": "1d7a7996",
   "metadata": {},
   "outputs": [],
   "source": [
    "customer = {\n",
    "    \n",
    "    \"gender\": \"female\",\n",
    "    \"seniorcitizen\": 0,\n",
    "    \"partner\": \"yes\",\n",
    "    \"dependents\": \"no\",\n",
    "    \"phoneservice\": \"no\",\n",
    "    \"multiplelines\": \"no_phone_service\",\n",
    "    \"internetservice\": \"dsl\",\n",
    "    \"onlinesecurity\": \"no\",\n",
    "    \"onlinebackup\": \"yes\",\n",
    "    \"deviceprotection\": \"no\",\n",
    "    \"techsupport\": \"no\",\n",
    "    \"streamingtv\": \"no\",\n",
    "    \"streamingmovies\": \"no\",\n",
    "    \"contract\": \"month-to-month\",\n",
    "    \"paperlessbilling\": \"yes\",\n",
    "    \"paymentmethod\": \"electronic_check\",\n",
    "    \"tenure\": 1,\n",
    "    \"monthlycharges\": 29.85,\n",
    "    \"totalcharges\": 29.85\n",
    "}"
   ]
  },
  {
   "cell_type": "code",
   "execution_count": 5,
   "id": "ab34e8f4",
   "metadata": {},
   "outputs": [
    {
     "data": {
      "text/plain": [
       "{'gender': 'female',\n",
       " 'seniorcitizen': 0,\n",
       " 'partner': 'yes',\n",
       " 'dependents': 'no',\n",
       " 'phoneservice': 'no',\n",
       " 'multiplelines': 'no_phone_service',\n",
       " 'internetservice': 'dsl',\n",
       " 'onlinesecurity': 'no',\n",
       " 'onlinebackup': 'yes',\n",
       " 'deviceprotection': 'no',\n",
       " 'techsupport': 'no',\n",
       " 'streamingtv': 'no',\n",
       " 'streamingmovies': 'no',\n",
       " 'contract': 'month-to-month',\n",
       " 'paperlessbilling': 'yes',\n",
       " 'paymentmethod': 'electronic_check',\n",
       " 'tenure': 1,\n",
       " 'monthlycharges': 29.85,\n",
       " 'totalcharges': 29.85}"
      ]
     },
     "execution_count": 5,
     "metadata": {},
     "output_type": "execute_result"
    }
   ],
   "source": [
    "customer"
   ]
  },
  {
   "cell_type": "code",
   "execution_count": 6,
   "id": "8e35e28c",
   "metadata": {},
   "outputs": [
    {
     "data": {
      "text/plain": [
       "<Response [500]>"
      ]
     },
     "execution_count": 6,
     "metadata": {},
     "output_type": "execute_result"
    }
   ],
   "source": [
    "requests.post(url, json = customer)"
   ]
  },
  {
   "cell_type": "markdown",
   "id": "1c179fee",
   "metadata": {},
   "source": [
    "500 is an error, in the terminal we can see: \n",
    "```raise TypeError(f'Object of type {o.__class__.__name__} ' ```\n",
    "```TypeError: Object of type bool_ is not JSON serializable```\n",
    "\n",
    "What happens is that the bool_ comes from numpy but the JSON class in python doesnt know how to turn the objects of this class into text, but it knows how to turn usual python booleans into text\n",
    "\n",
    "So we need to convert to booleans and also the ```y_pred``` needs to be converted from float-64 \n",
    "``` \n",
    "result = {\n",
    "        'churn_probability': float(y_pred),\n",
    "        'churn': bool(churn)\n",
    "    }\n",
    "  ```"
   ]
  },
  {
   "cell_type": "markdown",
   "id": "d4252f88",
   "metadata": {},
   "source": [
    "Because we were running flask in debug mode it detected the change and auto-reloaded !!!"
   ]
  },
  {
   "cell_type": "code",
   "execution_count": 18,
   "id": "0363e8ce",
   "metadata": {},
   "outputs": [
    {
     "data": {
      "text/plain": [
       "<Response [200]>"
      ]
     },
     "execution_count": 18,
     "metadata": {},
     "output_type": "execute_result"
    }
   ],
   "source": [
    "requests.post(url, json = customer)"
   ]
  },
  {
   "cell_type": "markdown",
   "id": "944551b0",
   "metadata": {},
   "source": [
    "So now with the change it returns 200 so it works!! We need to convert from json to see the content"
   ]
  },
  {
   "cell_type": "code",
   "execution_count": 19,
   "id": "7f20e269",
   "metadata": {},
   "outputs": [],
   "source": [
    "response = requests.post(url, json = customer).json()"
   ]
  },
  {
   "cell_type": "code",
   "execution_count": 20,
   "id": "bc471a92",
   "metadata": {},
   "outputs": [
    {
     "name": "stdout",
     "output_type": "stream",
     "text": [
      "sending promo email to xyz-123\n"
     ]
    }
   ],
   "source": [
    "if response['churn'] == True:\n",
    "    print('sending promo email to %s' %('xyz-123'))"
   ]
  },
  {
   "cell_type": "markdown",
   "id": "068223c4",
   "metadata": {},
   "source": [
    "We can also keep, or return the customer ID"
   ]
  },
  {
   "cell_type": "code",
   "execution_count": null,
   "id": "999be516",
   "metadata": {},
   "outputs": [],
   "source": []
  }
 ],
 "metadata": {
  "kernelspec": {
   "display_name": "Python 3 (ipykernel)",
   "language": "python",
   "name": "python3"
  },
  "language_info": {
   "codemirror_mode": {
    "name": "ipython",
    "version": 3
   },
   "file_extension": ".py",
   "mimetype": "text/x-python",
   "name": "python",
   "nbconvert_exporter": "python",
   "pygments_lexer": "ipython3",
   "version": "3.9.13"
  }
 },
 "nbformat": 4,
 "nbformat_minor": 5
}
